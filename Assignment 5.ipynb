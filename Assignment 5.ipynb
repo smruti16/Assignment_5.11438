{
 "cells": [
  {
   "cell_type": "markdown",
   "metadata": {},
   "source": [
    "Write a function to compute 5/0 and use try/except to catch the exceptions."
   ]
  },
  {
   "cell_type": "code",
   "execution_count": 3,
   "metadata": {
    "ExecuteTime": {
     "end_time": "2018-07-06T09:42:52.108118Z",
     "start_time": "2018-07-06T09:42:52.104120Z"
    }
   },
   "outputs": [],
   "source": [
    "def divide_function(x,y):\n",
    "    try:\n",
    "        z=x/y\n",
    "        print(z)\n",
    "    except:\n",
    "        y=0\n",
    "        print('infinite')"
   ]
  },
  {
   "cell_type": "code",
   "execution_count": 4,
   "metadata": {
    "ExecuteTime": {
     "end_time": "2018-07-06T09:42:57.568228Z",
     "start_time": "2018-07-06T09:42:57.564232Z"
    }
   },
   "outputs": [
    {
     "name": "stdout",
     "output_type": "stream",
     "text": [
      "infinite\n"
     ]
    }
   ],
   "source": [
    "divide_function(5,0)"
   ]
  },
  {
   "cell_type": "code",
   "execution_count": null,
   "metadata": {},
   "outputs": [],
   "source": []
  },
  {
   "cell_type": "markdown",
   "metadata": {},
   "source": [
    "Implement a Python program to generate all sentences where subject is in [\"Americans\",\n",
    "\"Indians\"] and verb is in [\"Play\", \"watch\"] and the object is in [\"Baseball\",\"cricket\"].\n",
    "\n",
    "Output should come as below:\n",
    "\n",
    "Americans play Baseball.\n",
    "\n",
    "Americans play Cricket.\n",
    "\n",
    "Americans watch Baseball.\n",
    "\n",
    "Americans watch Cricket.\n",
    "\n",
    "Indians play Baseball.\n",
    "\n",
    "Indians play Cricket.\n",
    "\n",
    "Indians watch Baseball.\n",
    "\n",
    "Indians watch Cricket."
   ]
  },
  {
   "cell_type": "code",
   "execution_count": 5,
   "metadata": {
    "ExecuteTime": {
     "end_time": "2018-07-06T09:43:02.303201Z",
     "start_time": "2018-07-06T09:43:02.294209Z"
    }
   },
   "outputs": [
    {
     "name": "stdout",
     "output_type": "stream",
     "text": [
      "Americans play baseball\n",
      "Americans play cricket\n",
      "Americans watch baseball\n",
      "Americans watch cricket\n",
      "Indians play baseball\n",
      "Indians play cricket\n",
      "Indians watch baseball\n",
      "Indians watch cricket\n"
     ]
    }
   ],
   "source": [
    "sub = ['Americans','Indians']\n",
    "ver = ['play','watch']\n",
    "obj = ['baseball','cricket']\n",
    "a = [' '.join([i,j,k]) for i in sub for j in ver for k in obj]\n",
    "#a\n",
    "for l in a:\n",
    "    print(l)"
   ]
  },
  {
   "cell_type": "code",
   "execution_count": null,
   "metadata": {},
   "outputs": [],
   "source": []
  }
 ],
 "metadata": {
  "kernelspec": {
   "display_name": "Python 3",
   "language": "python",
   "name": "python3"
  },
  "language_info": {
   "codemirror_mode": {
    "name": "ipython",
    "version": 3
   },
   "file_extension": ".py",
   "mimetype": "text/x-python",
   "name": "python",
   "nbconvert_exporter": "python",
   "pygments_lexer": "ipython3",
   "version": "3.6.4"
  }
 },
 "nbformat": 4,
 "nbformat_minor": 2
}
